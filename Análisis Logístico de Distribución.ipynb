{
 "cells": [
  {
   "attachments": {},
   "cell_type": "markdown",
   "id": "df00c104",
   "metadata": {},
   "source": [
    "# Análisis Logístico de Distribución\n",
    "\n",
    "\n",
    "### Propuesta\n",
    "\n",
    "La empresa se encuentra en la provincia de Río Negro, Argentina, y desde allí, distribuyen sus conservas de frutas a todo el país. No obstante, han vivido un crecimiento exponencial reciente, lo cual presenta un nuevo desafío: el crecimiento ha incrementado los costos de distribución e implicó nuevas dificultades para satisfacer la demanda en las distintas provincias.\n",
    "\n",
    "Por este motivo, se han propuesto la creación de un centro de distribución que centralice todas las actividades logísticas en una región única y estratégica del país. La ubicación actual de su fábrica hace que todos los puntos de consumo queden bastante lejos.\n",
    "\n",
    "Tu trabajo consiste en ayudarles a tomar una decisión basada en datos.\n",
    "\n",
    "\n",
    "\n",
    "### Cosigna\n",
    "\n",
    "Analizar los resultados de las visualizaciones y en base a ella ofrecer a la empresa una recomendación fundamentada para las siguientes preguntas:\n",
    " + ¿Dónde debería ubicar la empresa su nuevo centro de distribución para optimizar sus operaciones? (Esta decisión no debería basarse simplemente en ubicar un lugar en el centro del país, sino en los lugares donde se concentran los mayores niveles de consumo)\n",
    " + ¿Cuál es del producto que concentra las mayores ventas en cantidad de unidades?\n",
    " + ¿En qué mes se produce la mayor cantidad de ventas?"
   ]
  },
  {
   "cell_type": "code",
   "execution_count": null,
   "id": "bf4ec77a",
   "metadata": {},
   "outputs": [],
   "source": []
  }
 ],
 "metadata": {
  "kernelspec": {
   "display_name": "Python 3 (ipykernel)",
   "language": "python",
   "name": "python3"
  },
  "language_info": {
   "codemirror_mode": {
    "name": "ipython",
    "version": 3
   },
   "file_extension": ".py",
   "mimetype": "text/x-python",
   "name": "python",
   "nbconvert_exporter": "python",
   "pygments_lexer": "ipython3",
   "version": "3.12.4"
  }
 },
 "nbformat": 4,
 "nbformat_minor": 5
}
